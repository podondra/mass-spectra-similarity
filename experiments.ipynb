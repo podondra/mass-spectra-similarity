{
 "cells": [
  {
   "cell_type": "code",
   "execution_count": null,
   "metadata": {
    "scrolled": true
   },
   "outputs": [],
   "source": [
    "import pprint\n",
    "import numpy\n",
    "import matplotlib.pyplot as pyplot\n",
    "from sklearn.metrics.pairwise import cosine_similarity\n",
    "import mss.spectra\n",
    "import mss.similarity\n",
    "from pyteomics import fasta\n",
    "import mss.db\n",
    "from scipy.sparse import lil_matrix"
   ]
  },
  {
   "cell_type": "code",
   "execution_count": null,
   "metadata": {},
   "outputs": [],
   "source": [
    "%matplotlib inline"
   ]
  },
  {
   "cell_type": "markdown",
   "metadata": {},
   "source": [
    "# preprocessing"
   ]
  },
  {
   "cell_type": "code",
   "execution_count": null,
   "metadata": {},
   "outputs": [],
   "source": [
    "mgf_file = 'data/spectra/amethyst_annotated.mgf'\n",
    "spectra = mss.spectra.read_mgf(mgf_file)"
   ]
  },
  {
   "cell_type": "code",
   "execution_count": null,
   "metadata": {
    "scrolled": false
   },
   "outputs": [],
   "source": [
    "spectrum = spectra[0]\n",
    "pprint.pprint(spectrum)"
   ]
  },
  {
   "cell_type": "code",
   "execution_count": null,
   "metadata": {
    "scrolled": true
   },
   "outputs": [],
   "source": [
    "def plot_spectrum(mz, intensity=None):\n",
    "    intensity = (intensity if intensity is not None\n",
    "                 else numpy.ones_like(mz))\n",
    "    pyplot.vlines(mz, 0, intensity)\n",
    "\n",
    "plot_spectrum(spectrum['m/z array'], spectrum['intensity array'])"
   ]
  },
  {
   "cell_type": "code",
   "execution_count": null,
   "metadata": {
    "scrolled": true
   },
   "outputs": [],
   "source": [
    "sequence = spectrum['params']['peptide']\n",
    "print(sequence)\n",
    "mss.spectra.b_ionts(sequence)"
   ]
  },
  {
   "cell_type": "code",
   "execution_count": null,
   "metadata": {},
   "outputs": [],
   "source": [
    "mz = mss.spectra.compute_mass_spectrum(sequence)\n",
    "plot_spectrum(mz)"
   ]
  },
  {
   "cell_type": "code",
   "execution_count": null,
   "metadata": {
    "scrolled": true
   },
   "outputs": [],
   "source": [
    "bins = 10\n",
    "binned = mss.spectra.bin_spectrum(spectrum['m/z array'], spectrum['intensity array'], bins)\n",
    "pyplot.vlines(range(0, bins), 0, binned)"
   ]
  },
  {
   "cell_type": "markdown",
   "metadata": {},
   "source": [
    "## binning range\n",
    "\n",
    "compute the binning range from test data\n",
    "\n",
    "so the binning range will be (150, 4021)"
   ]
  },
  {
   "cell_type": "code",
   "execution_count": null,
   "metadata": {},
   "outputs": [],
   "source": [
    "max(max(spectrum['m/z array']) for spectrum in spectra)"
   ]
  },
  {
   "cell_type": "code",
   "execution_count": null,
   "metadata": {
    "scrolled": false
   },
   "outputs": [],
   "source": [
    "mgf_file_2 = 'data/spectra/opal_annotated.mgf'\n",
    "spectra_2 = mss.spectra.read_mgf(mgf_file_2)\n",
    "max(max(spectrum['m/z array']) for spectrum in spectra_2)"
   ]
  },
  {
   "cell_type": "code",
   "execution_count": null,
   "metadata": {},
   "outputs": [],
   "source": [
    "min(min(spectrum['m/z array']) for spectrum in spectra)"
   ]
  },
  {
   "cell_type": "code",
   "execution_count": null,
   "metadata": {},
   "outputs": [],
   "source": [
    "min(min(spectrum['m/z array']) for spectrum in spectra_2)"
   ]
  },
  {
   "cell_type": "code",
   "execution_count": null,
   "metadata": {},
   "outputs": [],
   "source": [
    "for bin_size in [0.1, 0.5, 1]:\n",
    "    print('bin_size:', bin_size, 'gives number of bins:', int((4021 - 150) / bin_size))"
   ]
  },
  {
   "cell_type": "markdown",
   "metadata": {},
   "source": [
    "# database"
   ]
  },
  {
   "cell_type": "code",
   "execution_count": null,
   "metadata": {},
   "outputs": [],
   "source": [
    "bins = 3871"
   ]
  },
  {
   "cell_type": "code",
   "execution_count": null,
   "metadata": {},
   "outputs": [],
   "source": [
    "%%time\n",
    "fasta_file = 'data/sequence_database/amop_msdb_10000.fasta'\n",
    "peptides, mzs, intensity_matrix = mss.db.generate_db(fasta_file, bins=bins)"
   ]
  },
  {
   "cell_type": "code",
   "execution_count": null,
   "metadata": {},
   "outputs": [],
   "source": [
    "peptides.shape, mzs.shape, intensity_matrix.shape"
   ]
  },
  {
   "cell_type": "code",
   "execution_count": null,
   "metadata": {},
   "outputs": [],
   "source": [
    "db_file = 'data/db.npz'\n",
    "numpy.savez(db_file, peptides=peptides, mzs=mzs, intensity_matrix=intensity_matrix)"
   ]
  },
  {
   "cell_type": "code",
   "execution_count": null,
   "metadata": {
    "scrolled": true
   },
   "outputs": [],
   "source": [
    "a, b, c = mss.db.get_db(db_file)"
   ]
  },
  {
   "cell_type": "code",
   "execution_count": null,
   "metadata": {},
   "outputs": [],
   "source": [
    "a.shape, b.shape, c"
   ]
  },
  {
   "cell_type": "markdown",
   "metadata": {},
   "source": [
    "# similarity"
   ]
  },
  {
   "cell_type": "code",
   "execution_count": null,
   "metadata": {
    "scrolled": true
   },
   "outputs": [],
   "source": [
    "mz_matrix = mss.similarity.bin_spectra(spectra, bins=bins)"
   ]
  },
  {
   "cell_type": "code",
   "execution_count": null,
   "metadata": {},
   "outputs": [],
   "source": [
    "mz_matrix.shape, intensity_matrix.shape"
   ]
  },
  {
   "cell_type": "code",
   "execution_count": null,
   "metadata": {},
   "outputs": [],
   "source": [
    "%timeit result = mss.similarity.knn_query(mz_matrix, intensity_matrix, 10)"
   ]
  },
  {
   "cell_type": "code",
   "execution_count": null,
   "metadata": {},
   "outputs": [],
   "source": [
    "result.shape"
   ]
  },
  {
   "cell_type": "markdown",
   "metadata": {},
   "source": [
    "## top 10 accuracy"
   ]
  },
  {
   "cell_type": "code",
   "execution_count": null,
   "metadata": {
    "scrolled": false
   },
   "outputs": [],
   "source": [
    "tp = 0\n",
    "for i in range(result.shape[0]):\n",
    "    peptide = spectra[i]['params']['peptide']\n",
    "    if peptide in peptides[result[i]]:\n",
    "        tp += 1\n",
    "\n",
    "(tp / result.shape[0]) * 100"
   ]
  },
  {
   "cell_type": "markdown",
   "metadata": {},
   "source": [
    "## top 5 accuracy"
   ]
  },
  {
   "cell_type": "code",
   "execution_count": null,
   "metadata": {},
   "outputs": [],
   "source": [
    "tp = 0\n",
    "for i in range(result.shape[0]):\n",
    "    peptide = spectra[i]['params']['peptide']\n",
    "    if peptide in peptides[result[i, -5:]]:\n",
    "        tp += 1\n",
    "\n",
    "(tp / result.shape[0]) * 100"
   ]
  },
  {
   "cell_type": "markdown",
   "metadata": {},
   "source": [
    "## accuracy"
   ]
  },
  {
   "cell_type": "code",
   "execution_count": null,
   "metadata": {},
   "outputs": [],
   "source": [
    "tp = 0\n",
    "for i in range(result.shape[0]):\n",
    "    peptide = spectra[i]['params']['peptide']\n",
    "    if peptide in peptides[result[i, -1]]:\n",
    "        tp += 1\n",
    "\n",
    "(tp / result.shape[0]) * 100"
   ]
  },
  {
   "cell_type": "markdown",
   "metadata": {},
   "source": [
    "## range query"
   ]
  },
  {
   "cell_type": "code",
   "execution_count": null,
   "metadata": {},
   "outputs": [],
   "source": [
    "def range_query(spectra_mat, database_mat, treshold):\n",
    "    n_spectra = spectra_mat.shape[0]\n",
    "    similarities = cosine_similarity(mz_matrix, intensities, dense_output=False)\n",
    "    result = list()\n",
    "    for i in range(n_spectra):\n",
    "        row = similarities.getrow(i).toarray()[0]\n",
    "        sorted_index = numpy.argsort(row)\n",
    "        result.append(sorted_index[-numpy.sum(row >= treshold):])\n",
    "    return result"
   ]
  }
 ],
 "metadata": {
  "kernelspec": {
   "display_name": "Python 3",
   "language": "python",
   "name": "python3"
  },
  "language_info": {
   "codemirror_mode": {
    "name": "ipython",
    "version": 3
   },
   "file_extension": ".py",
   "mimetype": "text/x-python",
   "name": "python",
   "nbconvert_exporter": "python",
   "pygments_lexer": "ipython3",
   "version": "3.6.3"
  }
 },
 "nbformat": 4,
 "nbformat_minor": 2
}
