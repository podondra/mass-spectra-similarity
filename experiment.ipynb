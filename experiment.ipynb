{
 "cells": [
  {
   "cell_type": "code",
   "execution_count": 1,
   "metadata": {},
   "outputs": [],
   "source": [
    "from pyteomics import mgf, fasta, mass\n",
    "import matplotlib.pyplot as plt\n",
    "import scipy.stats\n",
    "import scipy.spatial.distance\n",
    "import numpy\n",
    "import sklearn.metrics.pairwise"
   ]
  },
  {
   "cell_type": "code",
   "execution_count": 2,
   "metadata": {},
   "outputs": [],
   "source": [
    "%matplotlib inline"
   ]
  },
  {
   "cell_type": "code",
   "execution_count": 3,
   "metadata": {},
   "outputs": [],
   "source": [
    "with mgf.read('data/spectra/amethyst_annotated.mgf') as reader:\n",
    "    spectra = list(reader)\n",
    "\n",
    "foo = spectra[0]\n",
    "baz = spectra[1]"
   ]
  },
  {
   "cell_type": "code",
   "execution_count": 4,
   "metadata": {},
   "outputs": [
    {
     "data": {
      "text/plain": [
       "{'charge array': masked_array(data = [-- -- -- -- -- -- -- -- -- -- -- -- -- -- -- -- -- -- -- -- -- -- -- -- --\n",
       "  -- -- -- -- -- -- -- -- -- -- -- -- -- -- -- -- -- -- -- -- -- -- -- --],\n",
       "              mask = [ True  True  True  True  True  True  True  True  True  True  True  True\n",
       "   True  True  True  True  True  True  True  True  True  True  True  True\n",
       "   True  True  True  True  True  True  True  True  True  True  True  True\n",
       "   True  True  True  True  True  True  True  True  True  True  True  True\n",
       "   True],\n",
       "        fill_value = 0),\n",
       " 'intensity array': array([   6.,    5.,    5.,    7.,   16.,    5.,   10.,   17.,   10.,\n",
       "           8.,   14.,    8.,   16.,   16.,   14.,    7.,    9.,   12.,\n",
       "           6.,   12.,   11.,   10.,   18.,   11.,   17.,   14.,   20.,\n",
       "           5.,   20.,    7.,    9.,    8.,    8.,    6.,   13.,  100.,\n",
       "          11.,   10.,   14.,   32.,    5.,    7.,   11.,    4.,    4.,\n",
       "           6.,    7.,   21.,   81.]),\n",
       " 'm/z array': array([  227.11 ,   230.118,   244.129,   296.143,   314.185,   332.194,\n",
       "          341.151,   356.147,   380.18 ,   398.18 ,   412.189,   416.184,\n",
       "          433.247,   439.194,   457.195,   466.225,   474.23 ,   482.2  ,\n",
       "          484.245,   495.227,   513.229,   527.237,   544.284,   549.248,\n",
       "          562.296,   567.25 ,   585.269,   638.291,   642.272,   656.296,\n",
       "          660.304,   673.311,   691.342,   713.347,   753.331,   788.387,\n",
       "          854.365,   872.377,   898.481,   916.492,   964.39 ,   982.428,\n",
       "         1000.43 ,  1013.47 ,  1039.45 ,  1070.51 ,  1075.46 ,  1088.53 ,\n",
       "         1203.55 ]),\n",
       " 'params': {'charge': [1],\n",
       "  'pepmass': (1212.97, None),\n",
       "  'peptide': 'DGDKPEETQGK',\n",
       "  'title': '3.spectrum'}}"
      ]
     },
     "execution_count": 4,
     "metadata": {},
     "output_type": "execute_result"
    }
   ],
   "source": [
    "foo"
   ]
  },
  {
   "cell_type": "code",
   "execution_count": 5,
   "metadata": {},
   "outputs": [
    {
     "data": {
      "text/plain": [
       "(0, 105.0)"
      ]
     },
     "execution_count": 5,
     "metadata": {},
     "output_type": "execute_result"
    },
    {
     "data": {
      "image/png": "[encoded data removed]",
      "text/plain": [
       "<matplotlib.figure.Figure at 0x7f6b1fbd8d68>"
      ]
     },
     "metadata": {},
     "output_type": "display_data"
    }
   ],
   "source": [
    "plt.vlines(foo['m/z array'], 0, foo['intensity array'])\n",
    "plt.gca().set_ylim(bottom=0)"
   ]
  },
  {
   "cell_type": "code",
   "execution_count": 6,
   "metadata": {},
   "outputs": [
    {
     "data": {
      "text/plain": [
       "{'charge': [1],\n",
       " 'pepmass': (1212.97, None),\n",
       " 'peptide': 'DGDKPEETQGK',\n",
       " 'title': '3.spectrum'}"
      ]
     },
     "execution_count": 6,
     "metadata": {},
     "output_type": "execute_result"
    }
   ],
   "source": [
    "foo['params']"
   ]
  },
  {
   "cell_type": "code",
   "execution_count": 7,
   "metadata": {
    "scrolled": true
   },
   "outputs": [
    {
     "data": {
      "text/plain": [
       "['D',\n",
       " 'DG',\n",
       " 'DGD',\n",
       " 'DGDK',\n",
       " 'DGDKP',\n",
       " 'DGDKPE',\n",
       " 'DGDKPEE',\n",
       " 'DGDKPEET',\n",
       " 'DGDKPEETQ',\n",
       " 'DGDKPEETQG']"
      ]
     },
     "execution_count": 7,
     "metadata": {},
     "output_type": "execute_result"
    }
   ],
   "source": [
    "def b_ionts_gen(sequence):\n",
    "    return (sequence[:i] for i in range(1, len(sequence)))\n",
    "\n",
    "list(b_ionts_gen(foo['params']['peptide']))"
   ]
  },
  {
   "cell_type": "code",
   "execution_count": 8,
   "metadata": {
    "scrolled": true
   },
   "outputs": [
    {
     "data": {
      "text/plain": [
       "([116.0342194906,\n",
       "  173.05568321117,\n",
       "  288.082626235,\n",
       "  416.177589249,\n",
       "  513.2303530978501,\n",
       "  642.27294618582,\n",
       "  771.3155392737899,\n",
       "  872.3632177422,\n",
       "  1000.42179524748,\n",
       "  1057.44325896805],\n",
       " [130.04986955474,\n",
       "  245.07681257857,\n",
       "  346.12449104698,\n",
       "  475.16708413494996,\n",
       "  604.20967722292,\n",
       "  741.26858908137,\n",
       "  878.32750093982,\n",
       "  991.41156491695])"
      ]
     },
     "execution_count": 8,
     "metadata": {},
     "output_type": "execute_result"
    }
   ],
   "source": [
    "def calculate_spectrum(sequence):\n",
    "    # TODO what is charge of D, DG, DGD, DGDK, ...\n",
    "    return [mass.calculate_mass(sequence=iont, ion_type='b', charge=1)\n",
    "            for iont in b_ionts_gen(sequence)]\n",
    "\n",
    "foo_spec = calculate_spectrum(foo['params']['peptide'])\n",
    "baz_spec = calculate_spectrum(baz['params']['peptide'])\n",
    "foo_spec, baz_spec"
   ]
  },
  {
   "cell_type": "code",
   "execution_count": 9,
   "metadata": {},
   "outputs": [
    {
     "data": {
      "text/plain": [
       "(0, 1.05)"
      ]
     },
     "execution_count": 9,
     "metadata": {},
     "output_type": "execute_result"
    },
    {
     "data": {
      "image/png": "[encoded data removed]",
      "text/plain": [
       "<matplotlib.figure.Figure at 0x7f6b1dab6048>"
      ]
     },
     "metadata": {},
     "output_type": "display_data"
    }
   ],
   "source": [
    "fig, (ax1, ax2) = plt.subplots(nrows=2, sharex=True)\n",
    "ax1.vlines(foo_spec, 0, 1)\n",
    "ax2.vlines(baz_spec, 0, 1)\n",
    "ax1.set_ylim(bottom=0)\n",
    "ax2.set_ylim(bottom=0)"
   ]
  },
  {
   "cell_type": "code",
   "execution_count": 10,
   "metadata": {
    "scrolled": true
   },
   "outputs": [
    {
     "data": {
      "text/plain": [
       "(0, 105.0)"
      ]
     },
     "execution_count": 10,
     "metadata": {},
     "output_type": "execute_result"
    },
    {
     "data": {
      "image/png": "[encoded data removed]",
      "text/plain": [
       "<matplotlib.figure.Figure at 0x7f6b1dae5a20>"
      ]
     },
     "metadata": {},
     "output_type": "display_data"
    }
   ],
   "source": [
    "fig, (ax1, ax2) = plt.subplots(nrows=2, ncols=1, sharex=True)\n",
    "ax1.vlines(foo_spec, 0, 1)\n",
    "ax2.vlines(foo['m/z array'], 0, foo['intensity array'])\n",
    "ax1.set_ylim(bottom=0)\n",
    "ax2.set_ylim(bottom=0)"
   ]
  },
  {
   "cell_type": "code",
   "execution_count": 11,
   "metadata": {},
   "outputs": [],
   "source": [
    "# TODO what range?\n",
    "def bin_spectrum(m_z, intensity, bins=13000, range=(0, 1300)):\n",
    "    binned, _, _ = scipy.stats.binned_statistic(m_z, intensity, statistic='sum',\n",
    "                                                bins=bins, range=range)\n",
    "    return binned\n",
    "\n",
    "foo_exp = bin_spectrum(foo['m/z array'], foo['intensity array'])\n",
    "foo_teo = bin_spectrum(foo_spec, [1] * len(foo_spec))\n",
    "baz_teo = bin_spectrum(baz_spec, [1] * len(baz_spec))"
   ]
  },
  {
   "cell_type": "code",
   "execution_count": 12,
   "metadata": {},
   "outputs": [
    {
     "data": {
      "text/plain": [
       "array([[ 0.12354731]])"
      ]
     },
     "execution_count": 12,
     "metadata": {},
     "output_type": "execute_result"
    }
   ],
   "source": [
    "sklearn.metrics.pairwise.cosine_similarity(foo_exp.reshape(1, -1), foo_teo.reshape(1, -1))"
   ]
  },
  {
   "cell_type": "code",
   "execution_count": 13,
   "metadata": {},
   "outputs": [
    {
     "data": {
      "text/plain": [
       "array([[ 0.]])"
      ]
     },
     "execution_count": 13,
     "metadata": {},
     "output_type": "execute_result"
    }
   ],
   "source": [
    "sklearn.metrics.pairwise.cosine_similarity(foo_exp.reshape(1, -1), baz_teo.reshape(1, -1))"
   ]
  },
  {
   "cell_type": "code",
   "execution_count": 14,
   "metadata": {},
   "outputs": [],
   "source": [
    "with fasta.read('data/sequence_database/amop_msdb_10000.fasta') as db:\n",
    "    for description, sequence in db:\n",
    "        ..."
   ]
  }
 ],
 "metadata": {
  "kernelspec": {
   "display_name": "Python 3",
   "language": "python",
   "name": "python3"
  },
  "language_info": {
   "codemirror_mode": {
    "name": "ipython",
    "version": 3
   },
   "file_extension": ".py",
   "mimetype": "text/x-python",
   "name": "python",
   "nbconvert_exporter": "python",
   "pygments_lexer": "ipython3",
   "version": "3.6.3"
  }
 },
 "nbformat": 4,
 "nbformat_minor": 2
}
